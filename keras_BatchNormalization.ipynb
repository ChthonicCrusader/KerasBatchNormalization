{
 "cells": [
  {
   "cell_type": "code",
   "execution_count": 1,
   "metadata": {
    "collapsed": false
   },
   "outputs": [
    {
     "name": "stderr",
     "output_type": "stream",
     "text": [
      "Using TensorFlow backend.\n",
      "/usr/local/lib/python2.7/dist-packages/matplotlib/font_manager.py:273: UserWarning: Matplotlib is building the font cache using fc-list. This may take a moment.\n",
      "  warnings.warn('Matplotlib is building the font cache using fc-list. This may take a moment.')\n"
     ]
    }
   ],
   "source": [
    "from keras.models import Sequential\n",
    "from keras.layers import Dense\n",
    "from keras.layers import Activation\n",
    "from keras.wrappers.scikit_learn import KerasClassifier\n",
    "from keras.utils import np_utils\n",
    "from keras.layers.normalization import BatchNormalization\n",
    "from keras.optimizers import SGD\n",
    "from sklearn.cross_validation import train_test_split\n",
    "from sklearn.preprocessing import LabelEncoder\n",
    "import matplotlib.pyplot as plt\n",
    "import pandas as pd\n",
    "import numpy as np\n",
    "%matplotlib inline"
   ]
  },
  {
   "cell_type": "code",
   "execution_count": 2,
   "metadata": {
    "collapsed": false
   },
   "outputs": [
    {
     "name": "stdout",
     "output_type": "stream",
     "text": [
      "(990, 193)\n"
     ]
    }
   ],
   "source": [
    "dataframe = pd.read_csv(\"./train.csv\")\n",
    "dataset = dataframe.values\n",
    "print dataset.shape"
   ]
  },
  {
   "cell_type": "code",
   "execution_count": 3,
   "metadata": {
    "collapsed": false
   },
   "outputs": [],
   "source": [
    "Y = dataset[:,0]\n",
    "X = dataset[:,1:].astype(float)"
   ]
  },
  {
   "cell_type": "code",
   "execution_count": 4,
   "metadata": {
    "collapsed": false
   },
   "outputs": [],
   "source": [
    "encoder=LabelEncoder()\n",
    "encoder.fit(Y)\n",
    "encoded_Y = encoder.transform(Y)\n",
    "dummy_y = np_utils.to_categorical(encoded_Y)"
   ]
  },
  {
   "cell_type": "code",
   "execution_count": 44,
   "metadata": {
    "collapsed": false
   },
   "outputs": [],
   "source": [
    "X_train, X_test, y_train, y_test = train_test_split(X,dummy_y, test_size=0.2, random_state=0)"
   ]
  },
  {
   "cell_type": "code",
   "execution_count": 59,
   "metadata": {
    "collapsed": false
   },
   "outputs": [],
   "source": [
    "def modelBN(sgd):\n",
    "    model = Sequential()\n",
    "    model.add(Dense(192, input_dim=192, init='uniform'))\n",
    "    model.add(BatchNormalization())\n",
    "    model.add(Activation('relu'))\n",
    "    model.add(Dense(100, init='uniform'))\n",
    "    model.add(BatchNormalization())\n",
    "    model.add(Activation('relu'))\n",
    "    model.add(Dense(100, init='uniform'))\n",
    "    model.add(BatchNormalization())\n",
    "    model.add(Activation('relu'))\n",
    "    model.add(Dense(100, init='uniform'))\n",
    "    model.add(BatchNormalization())\n",
    "    model.add(Activation('softmax'))\n",
    "    model.add(Dense(output_dim=99, init='uniform'))\n",
    "    model.compile(loss='categorical_crossentropy', optimizer=sgd, metrics=['categorical_crossentropy'])\n",
    "    return model\n",
    "\n",
    "def modelNBN(sgd):\n",
    "    model = Sequential()\n",
    "    model.add(Dense(192, input_dim=192, init='uniform'))\n",
    "    model.add(Activation('relu'))\n",
    "    model.add(Dense(100, init='uniform'))\n",
    "    model.add(Activation('relu'))\n",
    "    model.add(Dense(100, init='uniform'))\n",
    "    model.add(Activation('relu'))\n",
    "    model.add(Dense(100, init='uniform'))\n",
    "    model.add(Activation('softmax'))\n",
    "    model.add(Dense(output_dim=99, init='uniform'))\n",
    "    model.compile(loss='categorical_crossentropy', optimizer=sgd, metrics=['categorical_crossentropy'])\n",
    "    return model"
   ]
  },
  {
   "cell_type": "code",
   "execution_count": 61,
   "metadata": {
    "collapsed": false
   },
   "outputs": [
    {
     "name": "stdout",
     "output_type": "stream",
     "text": [
      "198/198 [==============================] - 0s\n",
      "198/198 [==============================] - 0s\n",
      "198/198 [==============================] - 0s\n",
      "198/198 [==============================] - 0s\n",
      "198/198 [==============================] - 0s\n",
      "198/198 [==============================] - 0s\n",
      "198/198 [==============================] - 0s\n",
      "CPU times: user 6min 47s, sys: 27.4 s, total: 7min 14s\n",
      "Wall time: 3min 56s\n"
     ]
    }
   ],
   "source": [
    "%%time\n",
    "bnModelScores=[]\n",
    "\n",
    "alphaList=[]\n",
    "\n",
    "for i in range (0,7):\n",
    "    alpha = 0.001*(10**i)\n",
    "    sgd = SGD(lr=alpha, decay=1e-6, momentum=0.9, nesterov=True)\n",
    "    \n",
    "    model1 = modelBN(sgd)\n",
    "    model1.fit(X_train,y_train,validation_data=(X_test,y_test), nb_epoch=100,batch_size=20,verbose=0)\n",
    "    bnscore=model1.evaluate(X_test,y_test,batch_size=198)[1]\n",
    "    bnModelScores.append(bnscore)\n",
    "    alphaList.append(alpha)"
   ]
  },
  {
   "cell_type": "code",
   "execution_count": 68,
   "metadata": {
    "collapsed": false
   },
   "outputs": [
    {
     "data": {
      "text/plain": [
       "[<tensorflow.python.ops.variables.Variable at 0x7f67859c9310>,\n",
       " <tensorflow.python.ops.variables.Variable at 0x7f67863f4690>,\n",
       " <tensorflow.python.ops.variables.Variable at 0x7f67859fa7d0>,\n",
       " <tensorflow.python.ops.variables.Variable at 0x7f67863f4790>,\n",
       " <tensorflow.python.ops.variables.Variable at 0x7f6786397290>,\n",
       " <tensorflow.python.ops.variables.Variable at 0x7f678634f610>,\n",
       " <tensorflow.python.ops.variables.Variable at 0x7f6786323f50>,\n",
       " <tensorflow.python.ops.variables.Variable at 0x7f6786312ad0>,\n",
       " <tensorflow.python.ops.variables.Variable at 0x7f67862b3f10>,\n",
       " <tensorflow.python.ops.variables.Variable at 0x7f6786257a10>,\n",
       " <tensorflow.python.ops.variables.Variable at 0x7f678626bb10>,\n",
       " <tensorflow.python.ops.variables.Variable at 0x7f678626b690>,\n",
       " <tensorflow.python.ops.variables.Variable at 0x7f6786186f90>,\n",
       " <tensorflow.python.ops.variables.Variable at 0x7f678623bdd0>,\n",
       " <tensorflow.python.ops.variables.Variable at 0x7f678616d290>,\n",
       " <tensorflow.python.ops.variables.Variable at 0x7f67861bcc10>,\n",
       " <tensorflow.python.ops.variables.Variable at 0x7f67860ec910>,\n",
       " <tensorflow.python.ops.variables.Variable at 0x7f67860ece50>,\n",
       " <tensorflow.python.ops.variables.Variable at 0x7f67863f4890>,\n",
       " <tensorflow.python.ops.variables.Variable at 0x7f67859e9cd0>,\n",
       " <tensorflow.python.ops.variables.Variable at 0x7f6786312c10>,\n",
       " <tensorflow.python.ops.variables.Variable at 0x7f6786302250>,\n",
       " <tensorflow.python.ops.variables.Variable at 0x7f678626b090>,\n",
       " <tensorflow.python.ops.variables.Variable at 0x7f678626bfd0>,\n",
       " <tensorflow.python.ops.variables.Variable at 0x7f67861bce90>,\n",
       " <tensorflow.python.ops.variables.Variable at 0x7f67861bcd50>]"
      ]
     },
     "execution_count": 68,
     "metadata": {},
     "output_type": "execute_result"
    }
   ],
   "source": [
    "model1.weights"
   ]
  },
  {
   "cell_type": "code",
   "execution_count": 62,
   "metadata": {
    "collapsed": false
   },
   "outputs": [
    {
     "name": "stdout",
     "output_type": "stream",
     "text": [
      "198/198 [==============================] - 2s\n",
      "198/198 [==============================] - 2s\n",
      "198/198 [==============================] - 2s\n",
      "198/198 [==============================] - 2s\n",
      "198/198 [==============================] - 2s\n",
      "198/198 [==============================] - 2s\n",
      "198/198 [==============================] - 2s\n",
      "CPU times: user 4min 35s, sys: 16.9 s, total: 4min 52s\n",
      "Wall time: 3min 5s\n"
     ]
    }
   ],
   "source": [
    "%%time\n",
    "alphaList=[]\n",
    "nbnModelScores=[]\n",
    "for i in range (0,7):\n",
    "    alpha = 0.001*(10**i)\n",
    "    sgd = SGD(lr=alpha, decay=1e-6, momentum=0.9, nesterov=True)\n",
    "    \n",
    "    model2 = modelNBN(sgd)\n",
    "    model2.fit(X_train,y_train,nb_epoch=100,batch_size=20,verbose=0)\n",
    "    nbnscore=model2.evaluate(X_test,y_test,batch_size=198)[1]\n",
    "    nbnModelScores.append(nbnscore)\n",
    "    alphaList.append(alpha)"
   ]
  },
  {
   "cell_type": "code",
   "execution_count": 37,
   "metadata": {
    "collapsed": false
   },
   "outputs": [
    {
     "name": "stdout",
     "output_type": "stream",
     "text": [
      "[0.001, 0.01, 0.1, 1.0, 10.0, 100.0, 1000.0]\n"
     ]
    }
   ],
   "source": [
    "print alphaList"
   ]
  },
  {
   "cell_type": "code",
   "execution_count": 43,
   "metadata": {
    "collapsed": false
   },
   "outputs": [
    {
     "name": "stdout",
     "output_type": "stream",
     "text": [
      "[4.813908576965332, 4.7122039794921875, 4.6307744979858398, 4.5973691940307617, 4.6836543083190918, 4.5730361938476562, 4.7059111595153809]\n"
     ]
    }
   ],
   "source": [
    "print nbnModelScores"
   ]
  },
  {
   "cell_type": "code",
   "execution_count": 69,
   "metadata": {
    "collapsed": false
   },
   "outputs": [
    {
     "data": {
      "image/png": "[encoded data removed]",
      "text/plain": [
       "<matplotlib.figure.Figure at 0x7f678ddf86d0>"
      ]
     },
     "metadata": {},
     "output_type": "display_data"
    }
   ],
   "source": [
    "fig = plt.figure(figsize=(6,6))\n",
    "ax = fig.add_subplot(111)\n",
    "ax.semilogx(alphaList,bnModelScores,basex=10)\n",
    "ax.semilogx(alphaList,nbnModelScores,'--',color='b',basex=10)\n",
    "plt.xlabel('Learning Rate (Alpha Values)')\n",
    "plt.ylabel('Cross Entropy')\n",
    "plt.legend(['With Batch Normalization','Without Batch Normalization'],loc=1)\n",
    "plt.grid()\n",
    "plt.savefig(\"alpha2.png\")"
   ]
  }
 ],
 "metadata": {
  "kernelspec": {
   "display_name": "Python 2",
   "language": "python",
   "name": "python2"
  },
  "language_info": {
   "codemirror_mode": {
    "name": "ipython",
    "version": 2
   },
   "file_extension": ".py",
   "mimetype": "text/x-python",
   "name": "python",
   "nbconvert_exporter": "python",
   "pygments_lexer": "ipython2",
   "version": "2.7.6"
  }
 },
 "nbformat": 4,
 "nbformat_minor": 0
}
